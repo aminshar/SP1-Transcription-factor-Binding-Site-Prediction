{
  "nbformat": 4,
  "nbformat_minor": 0,
  "metadata": {
    "colab": {
      "name": "Amin Data Science final project-SP1 Binding site Prediction.ipynb",
      "provenance": [],
      "collapsed_sections": []
    },
    "kernelspec": {
      "name": "python3",
      "display_name": "Python 3"
    },
    "language_info": {
      "name": "python"
    }
  },
  "cells": [
    {
      "cell_type": "markdown",
      "metadata": {
        "id": "uMgzM7F46zA3"
      },
      "source": [
        "# **DATA SCIENCE**\n",
        "**Project Titel : SP1 Transcription Factor DNA Binding Site Prediction**\n",
        "\n",
        "Amin Sharifi' s Final Project\n",
        "\n",
        "\n",
        "\n",
        "Mentor : Shabnam Sadeghi"
      ]
    },
    {
      "cell_type": "markdown",
      "metadata": {
        "id": "rAtBSCR2BKuP"
      },
      "source": [
        "**Introduction:**\n",
        "Transcription Factors are proteins that bind to specific sequence motifs on the DNA in order to regulate DNA activity. SP1 transcription factor binds to GC (Nucleobase: Building blocks of DNA) rich motifs."
      ]
    },
    {
      "cell_type": "markdown",
      "metadata": {
        "id": "N_0RkNeoCHS1"
      },
      "source": [
        "**Question:**\n",
        "Given the input data, is it possible to predict the nucleotide sequences as SP1 factor binding/non-binding site based on the presence/absence of motifs present in nucleotides ?"
      ]
    },
    {
      "cell_type": "code",
      "metadata": {
        "id": "Am2zlhO14q95"
      },
      "source": [
        " #Importing the essential libraries\n",
        "import pandas as pd\n",
        "import numpy as np\n",
        "\n",
        "#Importing the dataset\n",
        "df = pd.read_csv('Raw_data.csv')"
      ],
      "execution_count": null,
      "outputs": []
    },
    {
      "cell_type": "code",
      "metadata": {
        "id": "-M4PoxHR44IG",
        "colab": {
          "base_uri": "https://localhost:8080/",
          "height": 204
        },
        "outputId": "004cf8c6-4e6c-477d-9f2b-51cc47acb4ef"
      },
      "source": [
        "#PART 1: Exploring the Data\n",
        "\n",
        "#Checking the head of the dataset\n",
        "df.head()"
      ],
      "execution_count": null,
      "outputs": [
        {
          "output_type": "execute_result",
          "data": {
            "text/html": [
              "<div>\n",
              "<style scoped>\n",
              "    .dataframe tbody tr th:only-of-type {\n",
              "        vertical-align: middle;\n",
              "    }\n",
              "\n",
              "    .dataframe tbody tr th {\n",
              "        vertical-align: top;\n",
              "    }\n",
              "\n",
              "    .dataframe thead th {\n",
              "        text-align: right;\n",
              "    }\n",
              "</style>\n",
              "<table border=\"1\" class=\"dataframe\">\n",
              "  <thead>\n",
              "    <tr style=\"text-align: right;\">\n",
              "      <th></th>\n",
              "      <th>sequence</th>\n",
              "      <th>label</th>\n",
              "    </tr>\n",
              "  </thead>\n",
              "  <tbody>\n",
              "    <tr>\n",
              "      <th>0</th>\n",
              "      <td>ATCCGTTTCCGGGT</td>\n",
              "      <td>binding site</td>\n",
              "    </tr>\n",
              "    <tr>\n",
              "      <th>1</th>\n",
              "      <td>GGCTTTTCGGGCTA</td>\n",
              "      <td>binding site</td>\n",
              "    </tr>\n",
              "    <tr>\n",
              "      <th>2</th>\n",
              "      <td>CCCTGCTCTGCCTG</td>\n",
              "      <td>binding site</td>\n",
              "    </tr>\n",
              "    <tr>\n",
              "      <th>3</th>\n",
              "      <td>CGCTCCCCGGCGGC</td>\n",
              "      <td>binding site</td>\n",
              "    </tr>\n",
              "    <tr>\n",
              "      <th>4</th>\n",
              "      <td>GGGCGGGGCCTGGG</td>\n",
              "      <td>binding site</td>\n",
              "    </tr>\n",
              "  </tbody>\n",
              "</table>\n",
              "</div>"
            ],
            "text/plain": [
              "         sequence         label\n",
              "0  ATCCGTTTCCGGGT  binding site\n",
              "1  GGCTTTTCGGGCTA  binding site\n",
              "2  CCCTGCTCTGCCTG  binding site\n",
              "3  CGCTCCCCGGCGGC  binding site\n",
              "4  GGGCGGGGCCTGGG  binding site"
            ]
          },
          "metadata": {
            "tags": []
          },
          "execution_count": 3
        }
      ]
    },
    {
      "cell_type": "code",
      "metadata": {
        "colab": {
          "base_uri": "https://localhost:8080/"
        },
        "id": "30jmfgH9yn6d",
        "outputId": "61bda198-d441-4a56-ff62-f6ac1b15afdb"
      },
      "source": [
        "#Checking the shape of the data\n",
        "df.shape"
      ],
      "execution_count": null,
      "outputs": [
        {
          "output_type": "execute_result",
          "data": {
            "text/plain": [
              "(2400, 2)"
            ]
          },
          "metadata": {
            "tags": []
          },
          "execution_count": 4
        }
      ]
    },
    {
      "cell_type": "code",
      "metadata": {
        "colab": {
          "base_uri": "https://localhost:8080/"
        },
        "id": "hqAniMAKyJsq",
        "outputId": "5dc4de6e-d336-46a0-acc8-5bfdb19833da"
      },
      "source": [
        "#Checking the characteristics of the data frame and null values\n",
        "df.info()"
      ],
      "execution_count": null,
      "outputs": [
        {
          "output_type": "stream",
          "text": [
            "<class 'pandas.core.frame.DataFrame'>\n",
            "RangeIndex: 2400 entries, 0 to 2399\n",
            "Data columns (total 2 columns):\n",
            " #   Column    Non-Null Count  Dtype \n",
            "---  ------    --------------  ----- \n",
            " 0   sequence  2400 non-null   object\n",
            " 1   label     2400 non-null   object\n",
            "dtypes: object(2)\n",
            "memory usage: 37.6+ KB\n"
          ],
          "name": "stdout"
        }
      ]
    },
    {
      "cell_type": "code",
      "metadata": {
        "colab": {
          "base_uri": "https://localhost:8080/",
          "height": 353
        },
        "id": "nar8AzaYzPkX",
        "outputId": "e1d65d3b-4850-4b63-f688-9b145d191edb"
      },
      "source": [
        "#Check if the dataset is balanced\n",
        "df.value_counts('label')\n",
        "df['label'].value_counts().sort_index().plot.bar()"
      ],
      "execution_count": null,
      "outputs": [
        {
          "output_type": "execute_result",
          "data": {
            "text/plain": [
              "<matplotlib.axes._subplots.AxesSubplot at 0x7f40eb167550>"
            ]
          },
          "metadata": {
            "tags": []
          },
          "execution_count": 6
        },
        {
          "output_type": "display_data",
          "data": {
            "image/png": "[encoded data removed]",
            "text/plain": [
              "<Figure size 432x288 with 1 Axes>"
            ]
          },
          "metadata": {
            "tags": [],
            "needs_background": "light"
          }
        }
      ]
    },
    {
      "cell_type": "code",
      "metadata": {
        "colab": {
          "base_uri": "https://localhost:8080/"
        },
        "id": "gELbNJvy6IXx",
        "outputId": "6defea51-5fde-4f7c-bd5c-695807f88608"
      },
      "source": [
        "#Check if all the sequences have length of 14\n",
        "seqLen =[len(s) for s in df['sequence']]\n",
        "set(seqLen)"
      ],
      "execution_count": null,
      "outputs": [
        {
          "output_type": "execute_result",
          "data": {
            "text/plain": [
              "{14}"
            ]
          },
          "metadata": {
            "tags": []
          },
          "execution_count": 7
        }
      ]
    },
    {
      "cell_type": "code",
      "metadata": {
        "id": "SMv4_6tW6XBp"
      },
      "source": [
        "#PART 2: Create N-Gram(Fragmentize the sequence to characters with length of N) from the DNA sequences in order to prepare the data set for modeling\n",
        "#Here we use Bag of Words model using count vectorizer\n",
        "\n",
        "#Import the library\n",
        "from sklearn.feature_extraction.text import CountVectorizer\n",
        "seq_texts = df['sequence']"
      ],
      "execution_count": null,
      "outputs": []
    },
    {
      "cell_type": "code",
      "metadata": {
        "colab": {
          "base_uri": "https://localhost:8080/"
        },
        "id": "aWjZ2GIo5YG0",
        "outputId": "ca876490-bf15-44f5-c9fd-3255b1a7bbcd"
      },
      "source": [
        "#Create 2-5 mers from the Sequences\n",
        "cv = CountVectorizer(analyzer='char',ngram_range=(2,5),min_df=0.10,max_df=0.8)\n",
        "X = cv.fit_transform(seq_texts)\n",
        "\n",
        "print(X.shape)\n",
        "X"
      ],
      "execution_count": 29,
      "outputs": [
        {
          "output_type": "stream",
          "text": [
            "(2400, 84)\n"
          ],
          "name": "stdout"
        },
        {
          "output_type": "execute_result",
          "data": {
            "text/plain": [
              "<2400x84 sparse matrix of type '<class 'numpy.int64'>'\n",
              "\twith 45526 stored elements in Compressed Sparse Row format>"
            ]
          },
          "metadata": {
            "tags": []
          },
          "execution_count": 29
        }
      ]
    },
    {
      "cell_type": "code",
      "metadata": {
        "colab": {
          "base_uri": "https://localhost:8080/"
        },
        "id": "ql-hbJEm5aos",
        "outputId": "cf693313-da5a-4159-ff61-34ea9641b8fe"
      },
      "source": [
        "#Transform output (label) to a binary output\n",
        "df[ \"label_binary\" ] = df[ \"label\" ].map({ 'binding site' : 1,'non-binding site' : 0 } )\n",
        "y = df[ \"label_binary\"]#Checking the label type after converting to binary value\n",
        "\n",
        "df.dtypes"
      ],
      "execution_count": 30,
      "outputs": [
        {
          "output_type": "execute_result",
          "data": {
            "text/plain": [
              "sequence        object\n",
              "label           object\n",
              "label_binary     int64\n",
              "dtype: object"
            ]
          },
          "metadata": {
            "tags": []
          },
          "execution_count": 30
        }
      ]
    },
    {
      "cell_type": "code",
      "metadata": {
        "colab": {
          "base_uri": "https://localhost:8080/"
        },
        "id": "Wt3wa0mt53rx",
        "outputId": "ba84c7a1-b973-45fb-8ca9-df46e691efd1"
      },
      "source": [
        "#Sequences are converted to vecotrs, which consist of number of occurence for each 2-5-mers\n",
        "#Check how the vectors look like\n",
        "X_array = X.toarray()\n",
        "X_array"
      ],
      "execution_count": 31,
      "outputs": [
        {
          "output_type": "execute_result",
          "data": {
            "text/plain": [
              "array([[0, 0, 0, ..., 1, 0, 1],\n",
              "       [0, 0, 0, ..., 1, 0, 2],\n",
              "       [0, 0, 0, ..., 0, 0, 0],\n",
              "       ...,\n",
              "       [0, 0, 0, ..., 0, 0, 3],\n",
              "       [1, 0, 0, ..., 0, 0, 2],\n",
              "       [0, 0, 0, ..., 0, 0, 0]])"
            ]
          },
          "metadata": {
            "tags": []
          },
          "execution_count": 31
        }
      ]
    },
    {
      "cell_type": "code",
      "metadata": {
        "id": "qEr_jMxw749L"
      },
      "source": [
        "#We want to access the actual nucleobase sequence fragments of the 2-5-mer\n",
        "feature_names = cv.get_feature_names()"
      ],
      "execution_count": 32,
      "outputs": []
    },
    {
      "cell_type": "code",
      "metadata": {
        "id": "U9eGsKs66AFf"
      },
      "source": [
        "#PART 3: Spliting the data set\n",
        "#We will devide the data set to three parts. Train (≈60%), validation(≈20%) and test(≈20%)\n",
        "from sklearn.model_selection import train_test_split\n",
        "X_train, X_test, y_train, y_test = train_test_split(X, \n",
        "                                                    y, \n",
        "                                                    test_size = 0.2, \n",
        "                                                    random_state=1)\n",
        "\n",
        "X_train, X_val, y_train, y_val = train_test_split(X_train, y_train, test_size=0.2, random_state=1)"
      ],
      "execution_count": 33,
      "outputs": []
    },
    {
      "cell_type": "code",
      "metadata": {
        "colab": {
          "base_uri": "https://localhost:8080/"
        },
        "id": "S_jwKkeA7ugm",
        "outputId": "0ec09391-7ca2-4687-e514-f9ab8fda72c3"
      },
      "source": [
        "#Sanity check: The ratio of each group to the total\n",
        "print('Train:',X_train.shape[0]/df.shape[0])\n",
        "print('Validation:',X_val.shape[0]/df.shape[0])\n",
        "print('Validation:',X_test.shape[0]/df.shape[0])"
      ],
      "execution_count": 34,
      "outputs": [
        {
          "output_type": "stream",
          "text": [
            "Train: 0.64\n",
            "Validation: 0.16\n",
            "Validation: 0.2\n"
          ],
          "name": "stdout"
        }
      ]
    },
    {
      "cell_type": "code",
      "metadata": {
        "colab": {
          "base_uri": "https://localhost:8080/"
        },
        "id": "lpanHHm-E6mv",
        "outputId": "4c48661f-f6e3-4a1a-eba2-c80efa5c2cc3"
      },
      "source": [
        "#Check the shape of the Train group\n",
        "X_train.shape"
      ],
      "execution_count": 35,
      "outputs": [
        {
          "output_type": "execute_result",
          "data": {
            "text/plain": [
              "(1536, 84)"
            ]
          },
          "metadata": {
            "tags": []
          },
          "execution_count": 35
        }
      ]
    },
    {
      "cell_type": "code",
      "metadata": {
        "colab": {
          "base_uri": "https://localhost:8080/"
        },
        "id": "lyxxhepxDHqJ",
        "outputId": "f828a757-d275-4f89-d684-489ab1a4ec64"
      },
      "source": [
        "#PART 4: Creating the Model\n",
        "#For our data set we will use Random Forest Classifier\n",
        "from sklearn.ensemble import RandomForestClassifier\n",
        "\n",
        "#Create a Gaussian Classifier\n",
        "clf = RandomForestClassifier(n_estimators=100 , random_state=43)\n",
        "clf.fit(X_train,y_train)"
      ],
      "execution_count": 36,
      "outputs": [
        {
          "output_type": "execute_result",
          "data": {
            "text/plain": [
              "RandomForestClassifier(bootstrap=True, ccp_alpha=0.0, class_weight=None,\n",
              "                       criterion='gini', max_depth=None, max_features='auto',\n",
              "                       max_leaf_nodes=None, max_samples=None,\n",
              "                       min_impurity_decrease=0.0, min_impurity_split=None,\n",
              "                       min_samples_leaf=1, min_samples_split=2,\n",
              "                       min_weight_fraction_leaf=0.0, n_estimators=100,\n",
              "                       n_jobs=None, oob_score=False, random_state=43, verbose=0,\n",
              "                       warm_start=False)"
            ]
          },
          "metadata": {
            "tags": []
          },
          "execution_count": 36
        }
      ]
    },
    {
      "cell_type": "code",
      "metadata": {
        "id": "O3oXhA35Gfta"
      },
      "source": [
        "#We trained the model and we want check the accuracy of the model's prediction\n",
        "y_pred = clf.predict(X_val)\n",
        "from sklearn import metrics"
      ],
      "execution_count": 37,
      "outputs": []
    },
    {
      "cell_type": "code",
      "metadata": {
        "colab": {
          "base_uri": "https://localhost:8080/"
        },
        "id": "XqiUD6fpHUwq",
        "outputId": "d05e478f-1d3d-4c5e-b690-f039a8e5e47d"
      },
      "source": [
        "print(\"Accuracy:\",metrics.accuracy_score(y_val, y_pred))"
      ],
      "execution_count": 38,
      "outputs": [
        {
          "output_type": "stream",
          "text": [
            "Accuracy: 0.8854166666666666\n"
          ],
          "name": "stdout"
        }
      ]
    },
    {
      "cell_type": "code",
      "metadata": {
        "colab": {
          "base_uri": "https://localhost:8080/",
          "height": 296
        },
        "id": "x-6v9-ARlaQE",
        "outputId": "8d428c75-2743-4dd0-8c8e-42aaef906462"
      },
      "source": [
        "#PART 5: Investigating the performance of the classification model by three methods:\n",
        "# 1) Confusion Matrix   2) Roc Curve   3)Classification Report\n",
        "\n",
        "#1) Confusion Matrix : \n",
        "from sklearn.metrics import plot_confusion_matrix\n",
        "plot_confusion_matrix(clf, X_val, y_val, values_format = '')"
      ],
      "execution_count": 39,
      "outputs": [
        {
          "output_type": "execute_result",
          "data": {
            "text/plain": [
              "<sklearn.metrics._plot.confusion_matrix.ConfusionMatrixDisplay at 0x7f40d0dc6a90>"
            ]
          },
          "metadata": {
            "tags": []
          },
          "execution_count": 39
        },
        {
          "output_type": "display_data",
          "data": {
            "image/png": "[encoded data removed]",
            "text/plain": [
              "<Figure size 432x288 with 2 Axes>"
            ]
          },
          "metadata": {
            "tags": [],
            "needs_background": "light"
          }
        }
      ]
    },
    {
      "cell_type": "code",
      "metadata": {
        "colab": {
          "base_uri": "https://localhost:8080/",
          "height": 296
        },
        "id": "sGt4C2M4nfD2",
        "outputId": "e70e834e-e60b-49da-90e3-25623890c5f6"
      },
      "source": [
        "#2) ROC (receiver operating characteristic) Curve:\n",
        "#We can use different thresholds for classification. ROC curve summarizes all of the confusion matrices that each threshold produced\n",
        "from sklearn.metrics import plot_roc_curve\n",
        "plot_roc_curve(clf, X_val, y_val)\n"
      ],
      "execution_count": 40,
      "outputs": [
        {
          "output_type": "execute_result",
          "data": {
            "text/plain": [
              "<sklearn.metrics._plot.roc_curve.RocCurveDisplay at 0x7f40d0cf93d0>"
            ]
          },
          "metadata": {
            "tags": []
          },
          "execution_count": 40
        },
        {
          "output_type": "display_data",
          "data": {
            "image/png": "[encoded data removed]",
            "text/plain": [
              "<Figure size 432x288 with 1 Axes>"
            ]
          },
          "metadata": {
            "tags": [],
            "needs_background": "light"
          }
        }
      ]
    },
    {
      "cell_type": "code",
      "metadata": {
        "colab": {
          "base_uri": "https://localhost:8080/"
        },
        "id": "c5sRpyPNoGYD",
        "outputId": "997c2aef-bdb3-4725-b488-dc3c8f5512a0"
      },
      "source": [
        "#3) Classification Report:\n",
        "from sklearn.metrics import classification_report\n",
        "print(classification_report(y_val, y_pred))\n"
      ],
      "execution_count": 41,
      "outputs": [
        {
          "output_type": "stream",
          "text": [
            "              precision    recall  f1-score   support\n",
            "\n",
            "           0       0.88      0.88      0.88       188\n",
            "           1       0.89      0.89      0.89       196\n",
            "\n",
            "    accuracy                           0.89       384\n",
            "   macro avg       0.89      0.89      0.89       384\n",
            "weighted avg       0.89      0.89      0.89       384\n",
            "\n"
          ],
          "name": "stdout"
        }
      ]
    },
    {
      "cell_type": "code",
      "metadata": {
        "colab": {
          "base_uri": "https://localhost:8080/"
        },
        "id": "x1DN6qDHHapQ",
        "outputId": "391d7f4a-129c-4e34-d8a8-6c1ca6bdc547"
      },
      "source": [
        "#PART 6: Feature Importance\n",
        "#We want to investigate which 2-5-mers (sequence fragments) play a more important role in our model \n",
        "feature_imp = pd.Series(clf.feature_importances_).sort_values(ascending=False)\n",
        "feature_imp"
      ],
      "execution_count": 42,
      "outputs": [
        {
          "output_type": "execute_result",
          "data": {
            "text/plain": [
              "29    0.124284\n",
              "46    0.069744\n",
              "49    0.062541\n",
              "31    0.045398\n",
              "15    0.043823\n",
              "        ...   \n",
              "67    0.002722\n",
              "20    0.002370\n",
              "16    0.002004\n",
              "55    0.001928\n",
              "60    0.001565\n",
              "Length: 84, dtype: float64"
            ]
          },
          "metadata": {
            "tags": []
          },
          "execution_count": 42
        }
      ]
    },
    {
      "cell_type": "code",
      "metadata": {
        "colab": {
          "base_uri": "https://localhost:8080/",
          "height": 419
        },
        "id": "wIwdxxzMIKuj",
        "outputId": "411d4e77-bd9e-4960-d50b-0bc564a23f33"
      },
      "source": [
        "#Instead of the indexes we would like to see the actual sequence fragments\n",
        "#We need to make a data frame where each fragments is assigned to it's corresponding feature importance\n",
        "dic_feature_imp = {'feature_name':np.array(feature_names)[feature_imp.index], 'feature_imp': feature_imp} \n",
        "df_feature_imp = pd.DataFrame(dic_feature_imp)\n",
        "df_feature_imp"
      ],
      "execution_count": 43,
      "outputs": [
        {
          "output_type": "execute_result",
          "data": {
            "text/html": [
              "<div>\n",
              "<style scoped>\n",
              "    .dataframe tbody tr th:only-of-type {\n",
              "        vertical-align: middle;\n",
              "    }\n",
              "\n",
              "    .dataframe tbody tr th {\n",
              "        vertical-align: top;\n",
              "    }\n",
              "\n",
              "    .dataframe thead th {\n",
              "        text-align: right;\n",
              "    }\n",
              "</style>\n",
              "<table border=\"1\" class=\"dataframe\">\n",
              "  <thead>\n",
              "    <tr style=\"text-align: right;\">\n",
              "      <th></th>\n",
              "      <th>feature_name</th>\n",
              "      <th>feature_imp</th>\n",
              "    </tr>\n",
              "  </thead>\n",
              "  <tbody>\n",
              "    <tr>\n",
              "      <th>29</th>\n",
              "      <td>cg</td>\n",
              "      <td>0.124284</td>\n",
              "    </tr>\n",
              "    <tr>\n",
              "      <th>46</th>\n",
              "      <td>gcg</td>\n",
              "      <td>0.069744</td>\n",
              "    </tr>\n",
              "    <tr>\n",
              "      <th>49</th>\n",
              "      <td>gg</td>\n",
              "      <td>0.062541</td>\n",
              "    </tr>\n",
              "    <tr>\n",
              "      <th>31</th>\n",
              "      <td>cgg</td>\n",
              "      <td>0.045398</td>\n",
              "    </tr>\n",
              "    <tr>\n",
              "      <th>15</th>\n",
              "      <td>at</td>\n",
              "      <td>0.043823</td>\n",
              "    </tr>\n",
              "    <tr>\n",
              "      <th>...</th>\n",
              "      <td>...</td>\n",
              "      <td>...</td>\n",
              "    </tr>\n",
              "    <tr>\n",
              "      <th>67</th>\n",
              "      <td>taa</td>\n",
              "      <td>0.002722</td>\n",
              "    </tr>\n",
              "    <tr>\n",
              "      <th>20</th>\n",
              "      <td>caa</td>\n",
              "      <td>0.002370</td>\n",
              "    </tr>\n",
              "    <tr>\n",
              "      <th>16</th>\n",
              "      <td>ata</td>\n",
              "      <td>0.002004</td>\n",
              "    </tr>\n",
              "    <tr>\n",
              "      <th>55</th>\n",
              "      <td>ggcgg</td>\n",
              "      <td>0.001928</td>\n",
              "    </tr>\n",
              "    <tr>\n",
              "      <th>60</th>\n",
              "      <td>ggggc</td>\n",
              "      <td>0.001565</td>\n",
              "    </tr>\n",
              "  </tbody>\n",
              "</table>\n",
              "<p>84 rows × 2 columns</p>\n",
              "</div>"
            ],
            "text/plain": [
              "   feature_name  feature_imp\n",
              "29           cg     0.124284\n",
              "46          gcg     0.069744\n",
              "49           gg     0.062541\n",
              "31          cgg     0.045398\n",
              "15           at     0.043823\n",
              "..          ...          ...\n",
              "67          taa     0.002722\n",
              "20          caa     0.002370\n",
              "16          ata     0.002004\n",
              "55        ggcgg     0.001928\n",
              "60        ggggc     0.001565\n",
              "\n",
              "[84 rows x 2 columns]"
            ]
          },
          "metadata": {
            "tags": []
          },
          "execution_count": 43
        }
      ]
    },
    {
      "cell_type": "code",
      "metadata": {
        "colab": {
          "base_uri": "https://localhost:8080/",
          "height": 419
        },
        "id": "OnOcg5gAI0Av",
        "outputId": "869c968b-251d-4f23-f919-22fd37d61ca4"
      },
      "source": [
        "#Prepare the data frame for ploting the feature importance \n",
        "#Importing the libraries \n",
        "import seaborn as sns \n",
        "import matplotlib.pyplot as plt\n",
        "\n",
        "#Creating a data frame with the N-Gram occurences and the sequence classes\n",
        "df_plot = pd.DataFrame(X_train.toarray(), columns = feature_names)\n",
        "\n",
        "#Regarding blox plot visual limitations we can not plot all the feature importances\n",
        "#We will use the 20 most important features for observation\n",
        "nGramSum = df_plot.sum()\n",
        "nGramSum = nGramSum.sort_values( ascending=False)\n",
        "nGramTop = pd.DataFrame(df_plot[nGramSum.index[:20]])\n",
        "nGramTop['class'] = y_train.values\n",
        "\n",
        "#Check the new data frame\n",
        "nGramTop\n"
      ],
      "execution_count": 67,
      "outputs": [
        {
          "output_type": "execute_result",
          "data": {
            "text/html": [
              "<div>\n",
              "<style scoped>\n",
              "    .dataframe tbody tr th:only-of-type {\n",
              "        vertical-align: middle;\n",
              "    }\n",
              "\n",
              "    .dataframe tbody tr th {\n",
              "        vertical-align: top;\n",
              "    }\n",
              "\n",
              "    .dataframe thead th {\n",
              "        text-align: right;\n",
              "    }\n",
              "</style>\n",
              "<table border=\"1\" class=\"dataframe\">\n",
              "  <thead>\n",
              "    <tr style=\"text-align: right;\">\n",
              "      <th></th>\n",
              "      <th>gg</th>\n",
              "      <th>gc</th>\n",
              "      <th>ag</th>\n",
              "      <th>cc</th>\n",
              "      <th>cg</th>\n",
              "      <th>ga</th>\n",
              "      <th>tg</th>\n",
              "      <th>tt</th>\n",
              "      <th>aa</th>\n",
              "      <th>ct</th>\n",
              "      <th>ca</th>\n",
              "      <th>ggg</th>\n",
              "      <th>tc</th>\n",
              "      <th>at</th>\n",
              "      <th>gt</th>\n",
              "      <th>ac</th>\n",
              "      <th>ta</th>\n",
              "      <th>ggc</th>\n",
              "      <th>gcg</th>\n",
              "      <th>cgg</th>\n",
              "      <th>class</th>\n",
              "    </tr>\n",
              "  </thead>\n",
              "  <tbody>\n",
              "    <tr>\n",
              "      <th>0</th>\n",
              "      <td>2</td>\n",
              "      <td>0</td>\n",
              "      <td>0</td>\n",
              "      <td>1</td>\n",
              "      <td>2</td>\n",
              "      <td>1</td>\n",
              "      <td>0</td>\n",
              "      <td>1</td>\n",
              "      <td>0</td>\n",
              "      <td>0</td>\n",
              "      <td>1</td>\n",
              "      <td>0</td>\n",
              "      <td>2</td>\n",
              "      <td>0</td>\n",
              "      <td>2</td>\n",
              "      <td>1</td>\n",
              "      <td>0</td>\n",
              "      <td>0</td>\n",
              "      <td>0</td>\n",
              "      <td>1</td>\n",
              "      <td>1</td>\n",
              "    </tr>\n",
              "    <tr>\n",
              "      <th>1</th>\n",
              "      <td>1</td>\n",
              "      <td>0</td>\n",
              "      <td>3</td>\n",
              "      <td>0</td>\n",
              "      <td>0</td>\n",
              "      <td>4</td>\n",
              "      <td>2</td>\n",
              "      <td>0</td>\n",
              "      <td>2</td>\n",
              "      <td>0</td>\n",
              "      <td>0</td>\n",
              "      <td>0</td>\n",
              "      <td>0</td>\n",
              "      <td>0</td>\n",
              "      <td>1</td>\n",
              "      <td>0</td>\n",
              "      <td>0</td>\n",
              "      <td>0</td>\n",
              "      <td>0</td>\n",
              "      <td>0</td>\n",
              "      <td>0</td>\n",
              "    </tr>\n",
              "    <tr>\n",
              "      <th>2</th>\n",
              "      <td>0</td>\n",
              "      <td>1</td>\n",
              "      <td>2</td>\n",
              "      <td>0</td>\n",
              "      <td>0</td>\n",
              "      <td>2</td>\n",
              "      <td>2</td>\n",
              "      <td>0</td>\n",
              "      <td>0</td>\n",
              "      <td>2</td>\n",
              "      <td>1</td>\n",
              "      <td>0</td>\n",
              "      <td>1</td>\n",
              "      <td>1</td>\n",
              "      <td>1</td>\n",
              "      <td>0</td>\n",
              "      <td>0</td>\n",
              "      <td>0</td>\n",
              "      <td>0</td>\n",
              "      <td>0</td>\n",
              "      <td>0</td>\n",
              "    </tr>\n",
              "    <tr>\n",
              "      <th>3</th>\n",
              "      <td>2</td>\n",
              "      <td>3</td>\n",
              "      <td>1</td>\n",
              "      <td>3</td>\n",
              "      <td>3</td>\n",
              "      <td>1</td>\n",
              "      <td>0</td>\n",
              "      <td>0</td>\n",
              "      <td>0</td>\n",
              "      <td>0</td>\n",
              "      <td>0</td>\n",
              "      <td>0</td>\n",
              "      <td>0</td>\n",
              "      <td>0</td>\n",
              "      <td>0</td>\n",
              "      <td>0</td>\n",
              "      <td>0</td>\n",
              "      <td>2</td>\n",
              "      <td>1</td>\n",
              "      <td>2</td>\n",
              "      <td>1</td>\n",
              "    </tr>\n",
              "    <tr>\n",
              "      <th>4</th>\n",
              "      <td>1</td>\n",
              "      <td>0</td>\n",
              "      <td>1</td>\n",
              "      <td>0</td>\n",
              "      <td>2</td>\n",
              "      <td>1</td>\n",
              "      <td>0</td>\n",
              "      <td>0</td>\n",
              "      <td>2</td>\n",
              "      <td>0</td>\n",
              "      <td>2</td>\n",
              "      <td>0</td>\n",
              "      <td>1</td>\n",
              "      <td>0</td>\n",
              "      <td>1</td>\n",
              "      <td>2</td>\n",
              "      <td>0</td>\n",
              "      <td>0</td>\n",
              "      <td>0</td>\n",
              "      <td>1</td>\n",
              "      <td>1</td>\n",
              "    </tr>\n",
              "    <tr>\n",
              "      <th>...</th>\n",
              "      <td>...</td>\n",
              "      <td>...</td>\n",
              "      <td>...</td>\n",
              "      <td>...</td>\n",
              "      <td>...</td>\n",
              "      <td>...</td>\n",
              "      <td>...</td>\n",
              "      <td>...</td>\n",
              "      <td>...</td>\n",
              "      <td>...</td>\n",
              "      <td>...</td>\n",
              "      <td>...</td>\n",
              "      <td>...</td>\n",
              "      <td>...</td>\n",
              "      <td>...</td>\n",
              "      <td>...</td>\n",
              "      <td>...</td>\n",
              "      <td>...</td>\n",
              "      <td>...</td>\n",
              "      <td>...</td>\n",
              "      <td>...</td>\n",
              "    </tr>\n",
              "    <tr>\n",
              "      <th>1531</th>\n",
              "      <td>0</td>\n",
              "      <td>3</td>\n",
              "      <td>0</td>\n",
              "      <td>0</td>\n",
              "      <td>3</td>\n",
              "      <td>0</td>\n",
              "      <td>0</td>\n",
              "      <td>0</td>\n",
              "      <td>0</td>\n",
              "      <td>3</td>\n",
              "      <td>1</td>\n",
              "      <td>0</td>\n",
              "      <td>2</td>\n",
              "      <td>0</td>\n",
              "      <td>0</td>\n",
              "      <td>1</td>\n",
              "      <td>0</td>\n",
              "      <td>0</td>\n",
              "      <td>1</td>\n",
              "      <td>0</td>\n",
              "      <td>1</td>\n",
              "    </tr>\n",
              "    <tr>\n",
              "      <th>1532</th>\n",
              "      <td>0</td>\n",
              "      <td>0</td>\n",
              "      <td>0</td>\n",
              "      <td>0</td>\n",
              "      <td>0</td>\n",
              "      <td>0</td>\n",
              "      <td>0</td>\n",
              "      <td>4</td>\n",
              "      <td>1</td>\n",
              "      <td>0</td>\n",
              "      <td>1</td>\n",
              "      <td>0</td>\n",
              "      <td>0</td>\n",
              "      <td>3</td>\n",
              "      <td>0</td>\n",
              "      <td>1</td>\n",
              "      <td>3</td>\n",
              "      <td>0</td>\n",
              "      <td>0</td>\n",
              "      <td>0</td>\n",
              "      <td>0</td>\n",
              "    </tr>\n",
              "    <tr>\n",
              "      <th>1533</th>\n",
              "      <td>2</td>\n",
              "      <td>2</td>\n",
              "      <td>3</td>\n",
              "      <td>0</td>\n",
              "      <td>0</td>\n",
              "      <td>1</td>\n",
              "      <td>1</td>\n",
              "      <td>0</td>\n",
              "      <td>0</td>\n",
              "      <td>0</td>\n",
              "      <td>2</td>\n",
              "      <td>0</td>\n",
              "      <td>0</td>\n",
              "      <td>0</td>\n",
              "      <td>2</td>\n",
              "      <td>0</td>\n",
              "      <td>0</td>\n",
              "      <td>1</td>\n",
              "      <td>0</td>\n",
              "      <td>0</td>\n",
              "      <td>0</td>\n",
              "    </tr>\n",
              "    <tr>\n",
              "      <th>1534</th>\n",
              "      <td>3</td>\n",
              "      <td>2</td>\n",
              "      <td>2</td>\n",
              "      <td>1</td>\n",
              "      <td>1</td>\n",
              "      <td>0</td>\n",
              "      <td>1</td>\n",
              "      <td>0</td>\n",
              "      <td>1</td>\n",
              "      <td>0</td>\n",
              "      <td>1</td>\n",
              "      <td>2</td>\n",
              "      <td>0</td>\n",
              "      <td>0</td>\n",
              "      <td>1</td>\n",
              "      <td>0</td>\n",
              "      <td>0</td>\n",
              "      <td>1</td>\n",
              "      <td>0</td>\n",
              "      <td>0</td>\n",
              "      <td>1</td>\n",
              "    </tr>\n",
              "    <tr>\n",
              "      <th>1535</th>\n",
              "      <td>1</td>\n",
              "      <td>0</td>\n",
              "      <td>1</td>\n",
              "      <td>0</td>\n",
              "      <td>0</td>\n",
              "      <td>1</td>\n",
              "      <td>2</td>\n",
              "      <td>1</td>\n",
              "      <td>1</td>\n",
              "      <td>0</td>\n",
              "      <td>0</td>\n",
              "      <td>0</td>\n",
              "      <td>0</td>\n",
              "      <td>2</td>\n",
              "      <td>2</td>\n",
              "      <td>0</td>\n",
              "      <td>2</td>\n",
              "      <td>0</td>\n",
              "      <td>0</td>\n",
              "      <td>0</td>\n",
              "      <td>0</td>\n",
              "    </tr>\n",
              "  </tbody>\n",
              "</table>\n",
              "<p>1536 rows × 21 columns</p>\n",
              "</div>"
            ],
            "text/plain": [
              "      gg  gc  ag  cc  cg  ga  tg  tt  ...  at  gt  ac  ta  ggc  gcg  cgg  class\n",
              "0      2   0   0   1   2   1   0   1  ...   0   2   1   0    0    0    1      1\n",
              "1      1   0   3   0   0   4   2   0  ...   0   1   0   0    0    0    0      0\n",
              "2      0   1   2   0   0   2   2   0  ...   1   1   0   0    0    0    0      0\n",
              "3      2   3   1   3   3   1   0   0  ...   0   0   0   0    2    1    2      1\n",
              "4      1   0   1   0   2   1   0   0  ...   0   1   2   0    0    0    1      1\n",
              "...   ..  ..  ..  ..  ..  ..  ..  ..  ...  ..  ..  ..  ..  ...  ...  ...    ...\n",
              "1531   0   3   0   0   3   0   0   0  ...   0   0   1   0    0    1    0      1\n",
              "1532   0   0   0   0   0   0   0   4  ...   3   0   1   3    0    0    0      0\n",
              "1533   2   2   3   0   0   1   1   0  ...   0   2   0   0    1    0    0      0\n",
              "1534   3   2   2   1   1   0   1   0  ...   0   1   0   0    1    0    0      1\n",
              "1535   1   0   1   0   0   1   2   1  ...   2   2   0   2    0    0    0      0\n",
              "\n",
              "[1536 rows x 21 columns]"
            ]
          },
          "metadata": {
            "tags": []
          },
          "execution_count": 67
        }
      ]
    },
    {
      "cell_type": "code",
      "metadata": {
        "colab": {
          "base_uri": "https://localhost:8080/",
          "height": 568
        },
        "id": "OYPSAq7Vu0eY",
        "outputId": "92aa9cef-d5df-4972-ea32-5ec2e38c2594"
      },
      "source": [
        "#We can continue now with melting the data and ploting it\n",
        "meltNGram = pd.melt(nGramTop, id_vars='class')\n",
        "\n",
        "#Ploting the data\n",
        "fig, ax = plt.subplots(figsize=(12,9))\n",
        "sns.boxplot(x='variable', y='value', hue='class', data=meltNGram)"
      ],
      "execution_count": 72,
      "outputs": [
        {
          "output_type": "execute_result",
          "data": {
            "text/plain": [
              "<matplotlib.axes._subplots.AxesSubplot at 0x7f40cf15cd90>"
            ]
          },
          "metadata": {
            "tags": []
          },
          "execution_count": 72
        },
        {
          "output_type": "display_data",
          "data": {
            "image/png": "[encoded data removed]",
            "text/plain": [
              "<Figure size 864x648 with 1 Axes>"
            ]
          },
          "metadata": {
            "tags": [],
            "needs_background": "light"
          }
        }
      ]
    },
    {
      "cell_type": "markdown",
      "metadata": {
        "id": "cbeeEjV1wbkl"
      },
      "source": [
        "SP1 Transcription factors bind to GC rich motifs. Results from the blox plot also indicates that binding sites have higher occurence of G or C N-mers. Therefore our model is efficiently predicting our binding sites."
      ]
    },
    {
      "cell_type": "code",
      "metadata": {
        "colab": {
          "base_uri": "https://localhost:8080/"
        },
        "id": "5FHToUttxbBz",
        "outputId": "07000ae5-84ff-4a63-a92a-0923784f56e4"
      },
      "source": [
        "#PART 7: Applying the model to Test group\n",
        "#The Test group is the last fraction of the data frame to apply the model and is a representation of our model effeciency\n",
        "y_pred_test = clf.predict(X_test)\n",
        "print(\"Accuracy:\",metrics.accuracy_score(y_test, y_pred_test))"
      ],
      "execution_count": 74,
      "outputs": [
        {
          "output_type": "stream",
          "text": [
            "Accuracy: 0.8708333333333333\n"
          ],
          "name": "stdout"
        }
      ]
    },
    {
      "cell_type": "code",
      "metadata": {
        "colab": {
          "base_uri": "https://localhost:8080/",
          "height": 296
        },
        "id": "rfAt1hNvyl96",
        "outputId": "a6766592-7838-4b92-fd02-1dd6475d5115"
      },
      "source": [
        "plot_confusion_matrix(clf, X_val, y_val, values_format = '')"
      ],
      "execution_count": 75,
      "outputs": [
        {
          "output_type": "execute_result",
          "data": {
            "text/plain": [
              "<sklearn.metrics._plot.confusion_matrix.ConfusionMatrixDisplay at 0x7f40cf9e7990>"
            ]
          },
          "metadata": {
            "tags": []
          },
          "execution_count": 75
        },
        {
          "output_type": "display_data",
          "data": {
            "image/png": "[encoded data removed]",
            "text/plain": [
              "<Figure size 432x288 with 2 Axes>"
            ]
          },
          "metadata": {
            "tags": [],
            "needs_background": "light"
          }
        }
      ]
    },
    {
      "cell_type": "code",
      "metadata": {
        "id": "5WWUtuzUy7sN"
      },
      "source": [
        ""
      ],
      "execution_count": null,
      "outputs": []
    }
  ]
}